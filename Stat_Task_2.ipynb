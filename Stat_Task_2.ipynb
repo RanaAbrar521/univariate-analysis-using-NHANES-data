{
 "cells": [
  {
   "cell_type": "markdown",
   "id": "1a7aaed1-eaa0-4b95-ac66-88f55b9fb23e",
   "metadata": {},
   "source": [
    "Practice notebook for univariate analysis using NHANES data\n",
    "This notebook will give you the opportunity to perform some univariate analyses on your own using the NHANES. These analyses are similar to what was done in the week 2 NHANES case study notebook.\n",
    "\n",
    "You can enter your code into the cells that say \"enter your code here\", and you can type responses to the questions into the cells that say \"Type Markdown and Latex\".\n",
    "\n",
    "Note that most of the code that you will need to write below is very similar to code that appears in the case study notebook. You will need to edit code from that notebook in small ways to adapt it to the prompts below.\n",
    "\n",
    "To get started, we will use the same module imports and read the data in the same way as we did in the case study:"
   ]
  },
  {
   "cell_type": "code",
   "execution_count": 69,
   "id": "1e034419-6733-4a7f-871b-bbca4e9593b8",
   "metadata": {
    "tags": []
   },
   "outputs": [],
   "source": [
    "%matplotlib inline\n",
    "import matplotlib.pyplot as plt\n",
    "import seaborn as sns\n",
    "import pandas as pd\n",
    "import statsmodels.api as sm\n",
    "import numpy as np"
   ]
  },
  {
   "cell_type": "code",
   "execution_count": 70,
   "id": "f158a009-04c6-4f74-b49c-679f4b491915",
   "metadata": {},
   "outputs": [],
   "source": [
    "da = pd.read_csv(\"nhanes_2015_2016.csv\")"
   ]
  },
  {
   "cell_type": "code",
   "execution_count": 71,
   "id": "1e538e2e-8aab-4c75-87e8-635255a5b06f",
   "metadata": {},
   "outputs": [
    {
     "data": {
      "text/html": [
       "<div>\n",
       "<style scoped>\n",
       "    .dataframe tbody tr th:only-of-type {\n",
       "        vertical-align: middle;\n",
       "    }\n",
       "\n",
       "    .dataframe tbody tr th {\n",
       "        vertical-align: top;\n",
       "    }\n",
       "\n",
       "    .dataframe thead th {\n",
       "        text-align: right;\n",
       "    }\n",
       "</style>\n",
       "<table border=\"1\" class=\"dataframe\">\n",
       "  <thead>\n",
       "    <tr style=\"text-align: right;\">\n",
       "      <th></th>\n",
       "      <th>SEQN</th>\n",
       "      <th>ALQ101</th>\n",
       "      <th>ALQ110</th>\n",
       "      <th>ALQ130</th>\n",
       "      <th>SMQ020</th>\n",
       "      <th>RIAGENDR</th>\n",
       "      <th>RIDAGEYR</th>\n",
       "      <th>RIDRETH1</th>\n",
       "      <th>DMDCITZN</th>\n",
       "      <th>DMDEDUC2</th>\n",
       "      <th>...</th>\n",
       "      <th>BPXSY2</th>\n",
       "      <th>BPXDI2</th>\n",
       "      <th>BMXWT</th>\n",
       "      <th>BMXHT</th>\n",
       "      <th>BMXBMI</th>\n",
       "      <th>BMXLEG</th>\n",
       "      <th>BMXARML</th>\n",
       "      <th>BMXARMC</th>\n",
       "      <th>BMXWAIST</th>\n",
       "      <th>HIQ210</th>\n",
       "    </tr>\n",
       "  </thead>\n",
       "  <tbody>\n",
       "    <tr>\n",
       "      <th>0</th>\n",
       "      <td>83732</td>\n",
       "      <td>1.0</td>\n",
       "      <td>NaN</td>\n",
       "      <td>1.0</td>\n",
       "      <td>1</td>\n",
       "      <td>1</td>\n",
       "      <td>62</td>\n",
       "      <td>3</td>\n",
       "      <td>1.0</td>\n",
       "      <td>5.0</td>\n",
       "      <td>...</td>\n",
       "      <td>124.0</td>\n",
       "      <td>64.0</td>\n",
       "      <td>94.8</td>\n",
       "      <td>184.5</td>\n",
       "      <td>27.8</td>\n",
       "      <td>43.3</td>\n",
       "      <td>43.6</td>\n",
       "      <td>35.9</td>\n",
       "      <td>101.1</td>\n",
       "      <td>2.0</td>\n",
       "    </tr>\n",
       "    <tr>\n",
       "      <th>1</th>\n",
       "      <td>83733</td>\n",
       "      <td>1.0</td>\n",
       "      <td>NaN</td>\n",
       "      <td>6.0</td>\n",
       "      <td>1</td>\n",
       "      <td>1</td>\n",
       "      <td>53</td>\n",
       "      <td>3</td>\n",
       "      <td>2.0</td>\n",
       "      <td>3.0</td>\n",
       "      <td>...</td>\n",
       "      <td>140.0</td>\n",
       "      <td>88.0</td>\n",
       "      <td>90.4</td>\n",
       "      <td>171.4</td>\n",
       "      <td>30.8</td>\n",
       "      <td>38.0</td>\n",
       "      <td>40.0</td>\n",
       "      <td>33.2</td>\n",
       "      <td>107.9</td>\n",
       "      <td>NaN</td>\n",
       "    </tr>\n",
       "    <tr>\n",
       "      <th>2</th>\n",
       "      <td>83734</td>\n",
       "      <td>1.0</td>\n",
       "      <td>NaN</td>\n",
       "      <td>NaN</td>\n",
       "      <td>1</td>\n",
       "      <td>1</td>\n",
       "      <td>78</td>\n",
       "      <td>3</td>\n",
       "      <td>1.0</td>\n",
       "      <td>3.0</td>\n",
       "      <td>...</td>\n",
       "      <td>132.0</td>\n",
       "      <td>44.0</td>\n",
       "      <td>83.4</td>\n",
       "      <td>170.1</td>\n",
       "      <td>28.8</td>\n",
       "      <td>35.6</td>\n",
       "      <td>37.0</td>\n",
       "      <td>31.0</td>\n",
       "      <td>116.5</td>\n",
       "      <td>2.0</td>\n",
       "    </tr>\n",
       "    <tr>\n",
       "      <th>3</th>\n",
       "      <td>83735</td>\n",
       "      <td>2.0</td>\n",
       "      <td>1.0</td>\n",
       "      <td>1.0</td>\n",
       "      <td>2</td>\n",
       "      <td>2</td>\n",
       "      <td>56</td>\n",
       "      <td>3</td>\n",
       "      <td>1.0</td>\n",
       "      <td>5.0</td>\n",
       "      <td>...</td>\n",
       "      <td>134.0</td>\n",
       "      <td>68.0</td>\n",
       "      <td>109.8</td>\n",
       "      <td>160.9</td>\n",
       "      <td>42.4</td>\n",
       "      <td>38.5</td>\n",
       "      <td>37.7</td>\n",
       "      <td>38.3</td>\n",
       "      <td>110.1</td>\n",
       "      <td>2.0</td>\n",
       "    </tr>\n",
       "    <tr>\n",
       "      <th>4</th>\n",
       "      <td>83736</td>\n",
       "      <td>2.0</td>\n",
       "      <td>1.0</td>\n",
       "      <td>1.0</td>\n",
       "      <td>2</td>\n",
       "      <td>2</td>\n",
       "      <td>42</td>\n",
       "      <td>4</td>\n",
       "      <td>1.0</td>\n",
       "      <td>4.0</td>\n",
       "      <td>...</td>\n",
       "      <td>114.0</td>\n",
       "      <td>54.0</td>\n",
       "      <td>55.2</td>\n",
       "      <td>164.9</td>\n",
       "      <td>20.3</td>\n",
       "      <td>37.4</td>\n",
       "      <td>36.0</td>\n",
       "      <td>27.2</td>\n",
       "      <td>80.4</td>\n",
       "      <td>2.0</td>\n",
       "    </tr>\n",
       "  </tbody>\n",
       "</table>\n",
       "<p>5 rows × 28 columns</p>\n",
       "</div>"
      ],
      "text/plain": [
       "    SEQN  ALQ101  ALQ110  ALQ130  SMQ020  RIAGENDR  RIDAGEYR  RIDRETH1  \\\n",
       "0  83732     1.0     NaN     1.0       1         1        62         3   \n",
       "1  83733     1.0     NaN     6.0       1         1        53         3   \n",
       "2  83734     1.0     NaN     NaN       1         1        78         3   \n",
       "3  83735     2.0     1.0     1.0       2         2        56         3   \n",
       "4  83736     2.0     1.0     1.0       2         2        42         4   \n",
       "\n",
       "   DMDCITZN  DMDEDUC2  ...  BPXSY2  BPXDI2  BMXWT  BMXHT  BMXBMI  BMXLEG  \\\n",
       "0       1.0       5.0  ...   124.0    64.0   94.8  184.5    27.8    43.3   \n",
       "1       2.0       3.0  ...   140.0    88.0   90.4  171.4    30.8    38.0   \n",
       "2       1.0       3.0  ...   132.0    44.0   83.4  170.1    28.8    35.6   \n",
       "3       1.0       5.0  ...   134.0    68.0  109.8  160.9    42.4    38.5   \n",
       "4       1.0       4.0  ...   114.0    54.0   55.2  164.9    20.3    37.4   \n",
       "\n",
       "   BMXARML  BMXARMC  BMXWAIST  HIQ210  \n",
       "0     43.6     35.9     101.1     2.0  \n",
       "1     40.0     33.2     107.9     NaN  \n",
       "2     37.0     31.0     116.5     2.0  \n",
       "3     37.7     38.3     110.1     2.0  \n",
       "4     36.0     27.2      80.4     2.0  \n",
       "\n",
       "[5 rows x 28 columns]"
      ]
     },
     "execution_count": 71,
     "metadata": {},
     "output_type": "execute_result"
    }
   ],
   "source": [
    "da.head()"
   ]
  },
  {
   "cell_type": "markdown",
   "id": "93efeae4-325b-4426-b046-bb1cc3fa80ee",
   "metadata": {},
   "source": [
    "Question 1 \n",
    "Relabel the marital status variable DMDMARTL to have brief but informative character labels. Then construct a frequency table of these values for all people, then for women only, and for men only. Then construct these three frequency tables using only people whose age is between 30 and 40"
   ]
  },
  {
   "cell_type": "code",
   "execution_count": 90,
   "id": "f5e0a7f9-b1bd-49a2-92b2-f9c11a2218df",
   "metadata": {},
   "outputs": [],
   "source": [
    "\n",
    "da['Marital Status'] = da.DMDMARTL.replace({1: \"Married\", 2: \"Widowed\", 3: \"Divorced\", 4: \"Separated\", 5: \"Never married\", \n",
    "                                       6: \"Living with partner\", 77: \"Refused\", 99: \"Don't know\"}).fillna(\"Missing\")\n"
   ]
  },
  {
   "cell_type": "code",
   "execution_count": 91,
   "id": "cdf21345-40c1-421c-a446-23ca88bb59a3",
   "metadata": {},
   "outputs": [
    {
     "data": {
      "text/plain": [
       "Female    2976\n",
       "Male      2759\n",
       "Name: Gender, dtype: int64"
      ]
     },
     "execution_count": 91,
     "metadata": {},
     "output_type": "execute_result"
    }
   ],
   "source": [
    "da['Gender'] = da['RIAGENDR'].replace({1: 'Male', 2: 'Female'})\n"
   ]
  },
  {
   "cell_type": "code",
   "execution_count": 92,
   "id": "60755da0-ea37-42c3-ad61-0e3ef5c4cada",
   "metadata": {},
   "outputs": [],
   "source": [
    "\n",
    "da['Marital Status'].fillna('Missing', inplace = True)"
   ]
  },
  {
   "cell_type": "code",
   "execution_count": 93,
   "id": "8615a735-7f52-4488-a046-5de69cdccba1",
   "metadata": {},
   "outputs": [
    {
     "data": {
      "text/html": [
       "<div>\n",
       "<style scoped>\n",
       "    .dataframe tbody tr th:only-of-type {\n",
       "        vertical-align: middle;\n",
       "    }\n",
       "\n",
       "    .dataframe tbody tr th {\n",
       "        vertical-align: top;\n",
       "    }\n",
       "\n",
       "    .dataframe thead th {\n",
       "        text-align: right;\n",
       "    }\n",
       "</style>\n",
       "<table border=\"1\" class=\"dataframe\">\n",
       "  <thead>\n",
       "    <tr style=\"text-align: right;\">\n",
       "      <th></th>\n",
       "      <th>SEQN</th>\n",
       "      <th>ALQ101</th>\n",
       "      <th>ALQ110</th>\n",
       "      <th>ALQ130</th>\n",
       "      <th>SMQ020</th>\n",
       "      <th>RIAGENDR</th>\n",
       "      <th>RIDAGEYR</th>\n",
       "      <th>RIDRETH1</th>\n",
       "      <th>DMDCITZN</th>\n",
       "      <th>DMDEDUC2</th>\n",
       "      <th>...</th>\n",
       "      <th>BMXWT</th>\n",
       "      <th>BMXHT</th>\n",
       "      <th>BMXBMI</th>\n",
       "      <th>BMXLEG</th>\n",
       "      <th>BMXARML</th>\n",
       "      <th>BMXARMC</th>\n",
       "      <th>BMXWAIST</th>\n",
       "      <th>HIQ210</th>\n",
       "      <th>Marital Status</th>\n",
       "      <th>Gender</th>\n",
       "    </tr>\n",
       "  </thead>\n",
       "  <tbody>\n",
       "    <tr>\n",
       "      <th>0</th>\n",
       "      <td>83732</td>\n",
       "      <td>1.0</td>\n",
       "      <td>NaN</td>\n",
       "      <td>1.0</td>\n",
       "      <td>1</td>\n",
       "      <td>1</td>\n",
       "      <td>62</td>\n",
       "      <td>3</td>\n",
       "      <td>1.0</td>\n",
       "      <td>5.0</td>\n",
       "      <td>...</td>\n",
       "      <td>94.8</td>\n",
       "      <td>184.5</td>\n",
       "      <td>27.8</td>\n",
       "      <td>43.3</td>\n",
       "      <td>43.6</td>\n",
       "      <td>35.9</td>\n",
       "      <td>101.1</td>\n",
       "      <td>2.0</td>\n",
       "      <td>Married</td>\n",
       "      <td>Male</td>\n",
       "    </tr>\n",
       "    <tr>\n",
       "      <th>1</th>\n",
       "      <td>83733</td>\n",
       "      <td>1.0</td>\n",
       "      <td>NaN</td>\n",
       "      <td>6.0</td>\n",
       "      <td>1</td>\n",
       "      <td>1</td>\n",
       "      <td>53</td>\n",
       "      <td>3</td>\n",
       "      <td>2.0</td>\n",
       "      <td>3.0</td>\n",
       "      <td>...</td>\n",
       "      <td>90.4</td>\n",
       "      <td>171.4</td>\n",
       "      <td>30.8</td>\n",
       "      <td>38.0</td>\n",
       "      <td>40.0</td>\n",
       "      <td>33.2</td>\n",
       "      <td>107.9</td>\n",
       "      <td>NaN</td>\n",
       "      <td>Divorced</td>\n",
       "      <td>Male</td>\n",
       "    </tr>\n",
       "    <tr>\n",
       "      <th>2</th>\n",
       "      <td>83734</td>\n",
       "      <td>1.0</td>\n",
       "      <td>NaN</td>\n",
       "      <td>NaN</td>\n",
       "      <td>1</td>\n",
       "      <td>1</td>\n",
       "      <td>78</td>\n",
       "      <td>3</td>\n",
       "      <td>1.0</td>\n",
       "      <td>3.0</td>\n",
       "      <td>...</td>\n",
       "      <td>83.4</td>\n",
       "      <td>170.1</td>\n",
       "      <td>28.8</td>\n",
       "      <td>35.6</td>\n",
       "      <td>37.0</td>\n",
       "      <td>31.0</td>\n",
       "      <td>116.5</td>\n",
       "      <td>2.0</td>\n",
       "      <td>Married</td>\n",
       "      <td>Male</td>\n",
       "    </tr>\n",
       "    <tr>\n",
       "      <th>3</th>\n",
       "      <td>83735</td>\n",
       "      <td>2.0</td>\n",
       "      <td>1.0</td>\n",
       "      <td>1.0</td>\n",
       "      <td>2</td>\n",
       "      <td>2</td>\n",
       "      <td>56</td>\n",
       "      <td>3</td>\n",
       "      <td>1.0</td>\n",
       "      <td>5.0</td>\n",
       "      <td>...</td>\n",
       "      <td>109.8</td>\n",
       "      <td>160.9</td>\n",
       "      <td>42.4</td>\n",
       "      <td>38.5</td>\n",
       "      <td>37.7</td>\n",
       "      <td>38.3</td>\n",
       "      <td>110.1</td>\n",
       "      <td>2.0</td>\n",
       "      <td>Living with partner</td>\n",
       "      <td>Female</td>\n",
       "    </tr>\n",
       "    <tr>\n",
       "      <th>4</th>\n",
       "      <td>83736</td>\n",
       "      <td>2.0</td>\n",
       "      <td>1.0</td>\n",
       "      <td>1.0</td>\n",
       "      <td>2</td>\n",
       "      <td>2</td>\n",
       "      <td>42</td>\n",
       "      <td>4</td>\n",
       "      <td>1.0</td>\n",
       "      <td>4.0</td>\n",
       "      <td>...</td>\n",
       "      <td>55.2</td>\n",
       "      <td>164.9</td>\n",
       "      <td>20.3</td>\n",
       "      <td>37.4</td>\n",
       "      <td>36.0</td>\n",
       "      <td>27.2</td>\n",
       "      <td>80.4</td>\n",
       "      <td>2.0</td>\n",
       "      <td>Divorced</td>\n",
       "      <td>Female</td>\n",
       "    </tr>\n",
       "  </tbody>\n",
       "</table>\n",
       "<p>5 rows × 30 columns</p>\n",
       "</div>"
      ],
      "text/plain": [
       "    SEQN  ALQ101  ALQ110  ALQ130  SMQ020  RIAGENDR  RIDAGEYR  RIDRETH1  \\\n",
       "0  83732     1.0     NaN     1.0       1         1        62         3   \n",
       "1  83733     1.0     NaN     6.0       1         1        53         3   \n",
       "2  83734     1.0     NaN     NaN       1         1        78         3   \n",
       "3  83735     2.0     1.0     1.0       2         2        56         3   \n",
       "4  83736     2.0     1.0     1.0       2         2        42         4   \n",
       "\n",
       "   DMDCITZN  DMDEDUC2  ...  BMXWT  BMXHT  BMXBMI  BMXLEG  BMXARML  BMXARMC  \\\n",
       "0       1.0       5.0  ...   94.8  184.5    27.8    43.3     43.6     35.9   \n",
       "1       2.0       3.0  ...   90.4  171.4    30.8    38.0     40.0     33.2   \n",
       "2       1.0       3.0  ...   83.4  170.1    28.8    35.6     37.0     31.0   \n",
       "3       1.0       5.0  ...  109.8  160.9    42.4    38.5     37.7     38.3   \n",
       "4       1.0       4.0  ...   55.2  164.9    20.3    37.4     36.0     27.2   \n",
       "\n",
       "   BMXWAIST  HIQ210       Marital Status  Gender  \n",
       "0     101.1     2.0              Married    Male  \n",
       "1     107.9     NaN             Divorced    Male  \n",
       "2     116.5     2.0              Married    Male  \n",
       "3     110.1     2.0  Living with partner  Female  \n",
       "4      80.4     2.0             Divorced  Female  \n",
       "\n",
       "[5 rows x 30 columns]"
      ]
     },
     "execution_count": 93,
     "metadata": {},
     "output_type": "execute_result"
    }
   ],
   "source": [
    "da.head()"
   ]
  },
  {
   "cell_type": "code",
   "execution_count": 94,
   "id": "fc7dcd85-0b94-4162-b261-5e45a07503a7",
   "metadata": {},
   "outputs": [
    {
     "data": {
      "text/plain": [
       "Married                2780\n",
       "Never married          1004\n",
       "Divorced                579\n",
       "Living with partner     527\n",
       "Widowed                 396\n",
       "Missing                 261\n",
       "Separated               186\n",
       "Refused                   2\n",
       "Name: Marital Status, dtype: int64"
      ]
     },
     "execution_count": 94,
     "metadata": {},
     "output_type": "execute_result"
    }
   ],
   "source": [
    "da['Marital Status'].value_counts()"
   ]
  },
  {
   "cell_type": "code",
   "execution_count": 97,
   "id": "52659337-76d2-40a7-abfa-d7f4a5cc9a84",
   "metadata": {},
   "outputs": [
    {
     "data": {
      "text/plain": [
       "Married                1477\n",
       "Never married           484\n",
       "Living with partner     265\n",
       "Divorced                229\n",
       "Missing                 135\n",
       "Widowed                 100\n",
       "Separated                68\n",
       "Refused                   1\n",
       "Name: Marital Status, dtype: int64"
      ]
     },
     "execution_count": 97,
     "metadata": {},
     "output_type": "execute_result"
    }
   ],
   "source": [
    "da[da['Gender'] == 'Male']['Marital Status'].value_counts()"
   ]
  },
  {
   "cell_type": "code",
   "execution_count": 96,
   "id": "8d787d7c-36af-4c51-82a4-673d4ed574dc",
   "metadata": {},
   "outputs": [
    {
     "data": {
      "text/plain": [
       "Married                1303\n",
       "Never married           520\n",
       "Divorced                350\n",
       "Widowed                 296\n",
       "Living with partner     262\n",
       "Missing                 126\n",
       "Separated               118\n",
       "Refused                   1\n",
       "Name: Marital Status, dtype: int64"
      ]
     },
     "execution_count": 96,
     "metadata": {},
     "output_type": "execute_result"
    }
   ],
   "source": [
    "da[da['Gender'] == 'Female']['Marital Status'].value_counts()"
   ]
  },
  {
   "cell_type": "code",
   "execution_count": 98,
   "id": "b4a248de-d293-4075-bf81-9bb8f9c4956e",
   "metadata": {},
   "outputs": [
    {
     "data": {
      "text/plain": [
       "age_30_40  Marital Status     \n",
       "(30, 40]   Married                516\n",
       "           Never married          186\n",
       "           Living with partner    129\n",
       "           Divorced                67\n",
       "           Separated               29\n",
       "           Widowed                  4\n",
       "           Refused                  1\n",
       "Name: Marital Status, dtype: int64"
      ]
     },
     "execution_count": 98,
     "metadata": {},
     "output_type": "execute_result"
    }
   ],
   "source": [
    "da['age_30_40'] = pd.cut(da['RIDAGEYR'], [30, 40])\n",
    "da.groupby(['age_30_40'])['Marital Status'].value_counts()"
   ]
  },
  {
   "cell_type": "code",
   "execution_count": 99,
   "id": "9a8a372a-1029-42e0-aaca-4a7eb10a1e22",
   "metadata": {},
   "outputs": [
    {
     "data": {
      "text/plain": [
       "age_30_40  Marital Status     \n",
       "(30, 40]   Married                258\n",
       "           Never married           97\n",
       "           Living with partner     57\n",
       "           Divorced                43\n",
       "           Separated               17\n",
       "           Widowed                  2\n",
       "Name: Marital Status, dtype: int64"
      ]
     },
     "execution_count": 99,
     "metadata": {},
     "output_type": "execute_result"
    }
   ],
   "source": [
    "da[da['Gender'] == 'Female'].groupby('age_30_40')['Marital Status'].value_counts()"
   ]
  },
  {
   "cell_type": "code",
   "execution_count": 100,
   "id": "a0252619-1351-4187-988a-1edb61136d1f",
   "metadata": {},
   "outputs": [
    {
     "data": {
      "text/plain": [
       "age_30_40  Marital Status     \n",
       "(30, 40]   Married                258\n",
       "           Never married           89\n",
       "           Living with partner     72\n",
       "           Divorced                24\n",
       "           Separated               12\n",
       "           Widowed                  2\n",
       "           Refused                  1\n",
       "Name: Marital Status, dtype: int64"
      ]
     },
     "execution_count": 100,
     "metadata": {},
     "output_type": "execute_result"
    }
   ],
   "source": [
    "da[da['Gender'] == 'Male'].groupby('age_30_40')['Marital Status'].value_counts()"
   ]
  },
  {
   "cell_type": "markdown",
   "id": "60b74c3a-50b9-44cc-8323-06e958d25ad1",
   "metadata": {},
   "source": [
    "Q1a. Briefly comment on some of the differences that you observe between the distribution of marital status between women and men, for people of all ages."
   ]
  },
  {
   "cell_type": "code",
   "execution_count": 101,
   "id": "7af2e674-3fd4-417d-93fb-35cd37651ddc",
   "metadata": {},
   "outputs": [
    {
     "name": "stdout",
     "output_type": "stream",
     "text": [
      "Gender               Female   Male\n",
      "Marital Status                    \n",
      "Divorced             0.1176 0.0830\n",
      "Living with partner  0.0880 0.0960\n",
      "Married              0.4378 0.5353\n",
      "Missing              0.0423 0.0489\n",
      "Never married        0.1747 0.1754\n",
      "Refused              0.0003 0.0004\n",
      "Separated            0.0397 0.0246\n",
      "Widowed              0.0995 0.0362\n"
     ]
    }
   ],
   "source": [
    "dx = da.groupby([\"Marital Status\"])[\"Gender\"].value_counts().unstack()\n",
    "dx = dx.apply(lambda x: x/x.sum(), axis=0)\n",
    "print(dx.to_string(float_format=\"%.4f\"))\n",
    "# comparitivly the Marital status of mens are high then womens and also the death rate of men are high \n",
    "#living with partner rate of womens are low as compare to men also the separation rate of womens are high "
   ]
  },
  {
   "cell_type": "markdown",
   "id": "e573cdda-473f-4a2c-89e4-4d4d38dd5d81",
   "metadata": {},
   "source": [
    "Q1b. Briefly comment on the differences that you observe between the distribution of marital status states for women between the overall population, and for women between the ages of 30 and 40."
   ]
  },
  {
   "cell_type": "code",
   "execution_count": 107,
   "id": "7d5d268b-1ed7-4d51-85e1-76664b2937dc",
   "metadata": {},
   "outputs": [
    {
     "data": {
      "text/plain": [
       "Married                0.227201\n",
       "Never married          0.090671\n",
       "Divorced               0.061029\n",
       "Widowed                0.051613\n",
       "Living with partner    0.045684\n",
       "Missing                0.021970\n",
       "Separated              0.020575\n",
       "Refused                0.000174\n",
       "Name: Marital Status, dtype: float64"
      ]
     },
     "execution_count": 107,
     "metadata": {},
     "output_type": "execute_result"
    }
   ],
   "source": [
    "#between the distribution of marital status states for women between the overall population\n",
    "da[\"agegrp\"] = pd.cut(da.RIDAGEYR,[30,40])\n",
    "da[(da.Gender == \"Female\")]['Marital Status'].value_counts()/da[\"Marital Status\"].shape[0]\n"
   ]
  },
  {
   "cell_type": "code",
   "execution_count": 111,
   "id": "26bde130-7694-4ce6-bb21-3d33d1ab55d5",
   "metadata": {},
   "outputs": [
    {
     "data": {
      "text/plain": [
       "Married                0.044987\n",
       "Never married          0.016914\n",
       "Living with partner    0.009939\n",
       "Divorced               0.007498\n",
       "Separated              0.002964\n",
       "Widowed                0.000349\n",
       "Name: Marital Status, dtype: float64"
      ]
     },
     "execution_count": 111,
     "metadata": {},
     "output_type": "execute_result"
    }
   ],
   "source": [
    "#between the distribution of marital status states for women between the ages of 30 and 40\n",
    "da[\"agegrp\"] = pd.cut(da.RIDAGEYR,[30,40])\n",
    "da[(da.Gender == \"Female\") & (da.agegrp == pd.Interval(30,40))]['Marital Status'].value_counts()/da[\"Marital Status\"].shape[0]"
   ]
  },
  {
   "cell_type": "markdown",
   "id": "8b7810b0-63c8-4fa4-aa35-bb6051dced2a",
   "metadata": {},
   "source": [
    "Q1c. Repeat part b for the men."
   ]
  },
  {
   "cell_type": "code",
   "execution_count": 112,
   "id": "b7394f16-5eb1-4f40-b9f5-43ac89688110",
   "metadata": {},
   "outputs": [
    {
     "data": {
      "text/plain": [
       "Married                0.257541\n",
       "Never married          0.084394\n",
       "Living with partner    0.046207\n",
       "Divorced               0.039930\n",
       "Missing                0.023540\n",
       "Widowed                0.017437\n",
       "Separated              0.011857\n",
       "Refused                0.000174\n",
       "Name: Marital Status, dtype: float64"
      ]
     },
     "execution_count": 112,
     "metadata": {},
     "output_type": "execute_result"
    }
   ],
   "source": [
    "#between the distribution of marital status states for men between the overall population\n",
    "da[\"agegrp\"] = pd.cut(da.RIDAGEYR,[30,40])\n",
    "da[(da.Gender == \"Male\")]['Marital Status'].value_counts()/da[\"Marital Status\"].shape[0]"
   ]
  },
  {
   "cell_type": "code",
   "execution_count": 113,
   "id": "c920b146-810b-4fd2-9e76-a1e4cfa71ffb",
   "metadata": {},
   "outputs": [
    {
     "data": {
      "text/plain": [
       "Married                0.044987\n",
       "Never married          0.015519\n",
       "Living with partner    0.012554\n",
       "Divorced               0.004185\n",
       "Separated              0.002092\n",
       "Widowed                0.000349\n",
       "Refused                0.000174\n",
       "Name: Marital Status, dtype: float64"
      ]
     },
     "execution_count": 113,
     "metadata": {},
     "output_type": "execute_result"
    }
   ],
   "source": [
    "#between the distribution of marital status states for men between the ages of 30 and 40\n",
    "da[\"agegrp\"] = pd.cut(da.RIDAGEYR,[30,40])\n",
    "da[(da.Gender == \"Male\") & (da.agegrp == pd.Interval(30,40))]['Marital Status'].value_counts()/da[\"Marital Status\"].shape[0]"
   ]
  },
  {
   "cell_type": "markdown",
   "id": "422e0651-f1be-4d61-af2e-723d6652de7f",
   "metadata": {},
   "source": [
    "Question 2\n",
    "Restricting to the female population, stratify the subjects into age bands no wider than ten years, and construct the distribution of marital status within each age band. Within each age band, present the distribution in terms of proportions that must sum to 1."
   ]
  },
  {
   "cell_type": "code",
   "execution_count": 115,
   "id": "bd3cfbe0-956a-409d-9957-22c338d6f5f4",
   "metadata": {},
   "outputs": [
    {
     "name": "stderr",
     "output_type": "stream",
     "text": [
      "<ipython-input-115-9f8129cd1f6b>:3: SettingWithCopyWarning: \n",
      "A value is trying to be set on a copy of a slice from a DataFrame.\n",
      "Try using .loc[row_indexer,col_indexer] = value instead\n",
      "\n",
      "See the caveats in the documentation: https://pandas.pydata.org/pandas-docs/stable/user_guide/indexing.html#returning-a-view-versus-a-copy\n",
      "  x[\"agegrp2\"] = pd.cut(da.RIDAGEYR, [10,20, 30, 40, 50, 60, 70, 80])\n"
     ]
    },
    {
     "name": "stdout",
     "output_type": "stream",
     "text": [
      "Marital Status  Divorced  Living with partner  Married  Missing  Never married  Refused  Separated  Widowed\n",
      "agegrp2                                                                                                    \n",
      "(10, 20]             NaN                 0.03     0.00     1.00           0.06      NaN        NaN      NaN\n",
      "(20, 30]            0.03                 0.40     0.12      NaN           0.44      NaN       0.09      NaN\n",
      "(30, 40]            0.12                 0.22     0.20      NaN           0.19      NaN       0.14     0.01\n",
      "(40, 50]            0.20                 0.14     0.22      NaN           0.12      NaN       0.28     0.04\n",
      "(50, 60]            0.24                 0.12     0.20      NaN           0.08     1.00       0.23     0.09\n",
      "(60, 70]            0.24                 0.07     0.16      NaN           0.07      NaN       0.19     0.22\n",
      "(70, 80]            0.17                 0.01     0.10      NaN           0.04      NaN       0.07     0.64\n"
     ]
    }
   ],
   "source": [
    "# insert your code here\n",
    "x = da[da.Gender == \"Female\"]\n",
    "x[\"agegrp2\"] = pd.cut(da.RIDAGEYR, [10,20, 30, 40, 50, 60, 70, 80])\n",
    "dx = x.groupby([\"agegrp2\"])[\"Marital Status\"].value_counts().unstack()\n",
    "dx = dx.apply(lambda y: y/y.sum(), axis=0)\n",
    "print(dx.to_string(float_format=\"%.2f\"))"
   ]
  },
  {
   "cell_type": "markdown",
   "id": "d2a57f21-945a-42a3-aa61-cd9300715d60",
   "metadata": {},
   "source": [
    "Q2a. Comment on the trends that you see in this series of marginal distributions"
   ]
  },
  {
   "cell_type": "markdown",
   "id": "81e430dd-a037-42cb-a0a7-1444dbdbb234",
   "metadata": {},
   "source": [
    "Widowed rate increases for women with age "
   ]
  },
  {
   "cell_type": "markdown",
   "id": "72cfd4cc-a2d1-47c3-91a2-02a94d3e3351",
   "metadata": {},
   "source": [
    "Q2b. Repeat the construction for males."
   ]
  },
  {
   "cell_type": "code",
   "execution_count": 117,
   "id": "1b3d8a0b-2456-41d5-8f5c-c7983b20e4da",
   "metadata": {},
   "outputs": [
    {
     "name": "stdout",
     "output_type": "stream",
     "text": [
      "Marital Status  Divorced  Living with partner  Married  Missing  Never married  Refused  Separated  Widowed\n",
      "agegrp                                                                                                     \n",
      "(10, 20]             NaN                 0.01     0.00     1.00           0.07      NaN        NaN      NaN\n",
      "(20, 30]            0.01                 0.35     0.07      NaN           0.47      NaN       0.10     0.02\n",
      "(30, 40]            0.10                 0.27     0.17      NaN           0.18     1.00       0.18     0.02\n",
      "(40, 50]            0.15                 0.12     0.19      NaN           0.08      NaN       0.16     0.02\n",
      "(50, 60]            0.25                 0.13     0.20      NaN           0.10      NaN       0.15     0.10\n",
      "(60, 70]            0.24                 0.08     0.20      NaN           0.08      NaN       0.21     0.17\n",
      "(70, 80]            0.25                 0.03     0.17      NaN           0.02      NaN       0.21     0.67\n"
     ]
    }
   ],
   "source": [
    "# insert your code here\n",
    "x = da[da.Gender == \"Male\"]\n",
    "da[\"agegrp\"] = pd.cut(da.RIDAGEYR, [10,20, 30, 40, 50, 60, 70, 80])\n",
    "dx = x.groupby([\"agegrp\"])[\"Marital Status\"].value_counts().unstack()\n",
    "dx = dx.apply(lambda y: y/y.sum(), axis=0)\n",
    "print(dx.to_string(float_format=\"%.2f\"))"
   ]
  },
  {
   "cell_type": "markdown",
   "id": "88eed3b7-bc1a-4188-b6d6-93a85488215c",
   "metadata": {},
   "source": [
    "Q2c. Comment on any notable differences that you see when comparing these results for females and for males."
   ]
  },
  {
   "cell_type": "markdown",
   "id": "837bee61-3dd2-4f27-99cb-1b4cdc623814",
   "metadata": {},
   "source": [
    "separation rate little increases for women with age "
   ]
  },
  {
   "cell_type": "markdown",
   "id": "a64879a4-04be-4ebb-9034-53c5c0074bf6",
   "metadata": {},
   "source": [
    "Question 3\n",
    "Construct a histogram of the distribution of heights using the BMXHT variable in the NHANES sample."
   ]
  },
  {
   "cell_type": "code",
   "execution_count": 118,
   "id": "309c303d-3982-4bca-b27e-60acbb4b3f6b",
   "metadata": {},
   "outputs": [
    {
     "name": "stderr",
     "output_type": "stream",
     "text": [
      "C:\\Users\\hp\\anaconda3\\lib\\site-packages\\seaborn\\distributions.py:2557: FutureWarning: `distplot` is a deprecated function and will be removed in a future version. Please adapt your code to use either `displot` (a figure-level function with similar flexibility) or `histplot` (an axes-level function for histograms).\n",
      "  warnings.warn(msg, FutureWarning)\n"
     ]
    },
    {
     "data": {
      "image/png": "[encoded data removed]",
      "text/plain": [
       "<Figure size 432x288 with 1 Axes>"
      ]
     },
     "metadata": {
      "needs_background": "light"
     },
     "output_type": "display_data"
    }
   ],
   "source": [
    "# insert your code here\n",
    "sns.distplot(da.BMXHT.dropna()).set(title='distribution of heights using the BMXHT variable')\n",
    "plt.show()"
   ]
  },
  {
   "cell_type": "markdown",
   "id": "968c4e32-98c4-4c8f-9507-857f27619ef0",
   "metadata": {},
   "source": [
    "Q3a. Use the bins argument to distplot to produce histograms with different numbers of bins. Assess whether the default value for this argument gives a meaningful result, and comment on what happens as the number of bins grows excessively large or excessively small."
   ]
  },
  {
   "cell_type": "code",
   "execution_count": 119,
   "id": "9636f80a-8a3e-4637-a3f6-488c29537285",
   "metadata": {},
   "outputs": [
    {
     "name": "stderr",
     "output_type": "stream",
     "text": [
      "C:\\Users\\hp\\anaconda3\\lib\\site-packages\\seaborn\\distributions.py:2557: FutureWarning: `distplot` is a deprecated function and will be removed in a future version. Please adapt your code to use either `displot` (a figure-level function with similar flexibility) or `histplot` (an axes-level function for histograms).\n",
      "  warnings.warn(msg, FutureWarning)\n"
     ]
    },
    {
     "data": {
      "image/png": "[encoded data removed]",
      "text/plain": [
       "<Figure size 432x288 with 1 Axes>"
      ]
     },
     "metadata": {
      "needs_background": "light"
     },
     "output_type": "display_data"
    }
   ],
   "source": [
    "sns.distplot(da.BMXHT.dropna(), bins = 50)\n",
    "plt.show()"
   ]
  },
  {
   "cell_type": "markdown",
   "id": "4f2727c2-c21b-4778-84a2-d08264d85324",
   "metadata": {},
   "source": [
    "Q3b. Make separate histograms for the heights of women and men, then make a side-by-side boxplot showing the heights of women and men."
   ]
  },
  {
   "cell_type": "code",
   "execution_count": 122,
   "id": "e633115e-211b-4d4b-b872-b1f2e9da1d1e",
   "metadata": {},
   "outputs": [
    {
     "data": {
      "image/png": "[encoded data removed]",
      "text/plain": [
       "<Figure size 432x288 with 1 Axes>"
      ]
     },
     "metadata": {
      "needs_background": "light"
     },
     "output_type": "display_data"
    },
    {
     "data": {
      "image/png": "[encoded data removed]",
      "text/plain": [
       "<Figure size 216x432 with 2 Axes>"
      ]
     },
     "metadata": {
      "needs_background": "light"
     },
     "output_type": "display_data"
    }
   ],
   "source": [
    "# insert your code here\n",
    "sns.boxplot(x = da[\"BMXHT\"], y = da[\"Gender\"])\n",
    "g = sns.FacetGrid(da, row = \"Gender\")\n",
    "g = g.map(plt.hist, \"BMXHT\")\n",
    "plt.show()"
   ]
  },
  {
   "cell_type": "markdown",
   "id": "f3914a6c-d9f1-40a7-b35c-058cb3c85d6e",
   "metadata": {},
   "source": [
    "Q3c. Comment on what features, if any are not represented clearly in the boxplots, and what features, if any, are easier to see in the boxplots than in the histograms."
   ]
  },
  {
   "cell_type": "code",
   "execution_count": null,
   "id": "1cb520a6-b01c-4a3e-b83b-93c0af6b97f3",
   "metadata": {},
   "outputs": [],
   "source": [
    "Men are taller than women"
   ]
  },
  {
   "cell_type": "code",
   "execution_count": null,
   "id": "521e51de-6038-4815-af2a-dcbbd85626fe",
   "metadata": {},
   "outputs": [],
   "source": [
    "#da['BPXSY1_BPXSY2_Differ'] = abs(da['BPXSY1'] - da['BPXSY2'])\n",
    "# df.boxplot(column=['BPXSY1_BPXSY2_Differ'], figsize =(12,6));\n",
    "\n",
    "#fig = da.boxplot(column=['BPXSY1_BPXSY2_Differ'], figsize =(12,6));\n",
    "\n",
    "#fig.update_layout(autosize=False, width=900, height=500,\n",
    "                 # margin=dict(l=20, r=50, t=50, b=20), title='Absolute Systolic BP Difference',\n",
    "                  #xaxis_title=\"Abs. Difference\")\n",
    "\n",
    "# fig.update_yaxes(automargin=True)\n",
    "\n",
    "#fig.show()"
   ]
  },
  {
   "cell_type": "markdown",
   "id": "25a857a3-9630-489a-a2d4-6b30a4b00041",
   "metadata": {},
   "source": [
    "Question 4\n",
    "Make a boxplot showing the distribution of within-subject differences between the first and second systolic blood pressure measurents (BPXSY1 and BPXSY2)."
   ]
  },
  {
   "cell_type": "code",
   "execution_count": 57,
   "id": "244dfc51-abfc-414f-b8a5-c118072f9118",
   "metadata": {},
   "outputs": [
    {
     "ename": "TypeError",
     "evalue": "boxplot() missing 1 required positional argument: 'x'",
     "output_type": "error",
     "traceback": [
      "\u001b[1;31m---------------------------------------------------------------------------\u001b[0m",
      "\u001b[1;31mTypeError\u001b[0m                                 Traceback (most recent call last)",
      "\u001b[1;32m<ipython-input-57-3821265e7aec>\u001b[0m in \u001b[0;36m<module>\u001b[1;34m\u001b[0m\n\u001b[0;32m      4\u001b[0m \u001b[0mda\u001b[0m\u001b[1;33m[\u001b[0m\u001b[1;34m'BPXSY1_BPSY2_DIFFER'\u001b[0m\u001b[1;33m]\u001b[0m \u001b[1;33m=\u001b[0m \u001b[1;33m(\u001b[0m\u001b[0mda\u001b[0m\u001b[1;33m[\u001b[0m\u001b[1;34m'BPXSY1'\u001b[0m\u001b[1;33m]\u001b[0m \u001b[1;33m-\u001b[0m \u001b[0mda\u001b[0m\u001b[1;33m[\u001b[0m\u001b[1;34m'BPXSY2'\u001b[0m\u001b[1;33m]\u001b[0m\u001b[1;33m)\u001b[0m\u001b[1;33m\u001b[0m\u001b[1;33m\u001b[0m\u001b[0m\n\u001b[0;32m      5\u001b[0m \u001b[0mx\u001b[0m \u001b[1;33m=\u001b[0m \u001b[0mda\u001b[0m\u001b[1;33m.\u001b[0m\u001b[0mboxplot\u001b[0m\u001b[1;33m(\u001b[0m\u001b[0mcolumn\u001b[0m\u001b[1;33m=\u001b[0m\u001b[1;33m[\u001b[0m\u001b[1;34m'BPXSY1_BPSY2_DIFFER'\u001b[0m\u001b[1;33m]\u001b[0m\u001b[1;33m,\u001b[0m \u001b[0mfigsize\u001b[0m \u001b[1;33m=\u001b[0m\u001b[1;33m(\u001b[0m\u001b[1;36m12\u001b[0m\u001b[1;33m,\u001b[0m\u001b[1;36m6\u001b[0m\u001b[1;33m)\u001b[0m\u001b[1;33m)\u001b[0m\u001b[1;33m;\u001b[0m\u001b[1;33m\u001b[0m\u001b[1;33m\u001b[0m\u001b[0m\n\u001b[1;32m----> 6\u001b[1;33m \u001b[0mx\u001b[0m\u001b[1;33m.\u001b[0m\u001b[0mboxplot\u001b[0m\u001b[1;33m(\u001b[0m\u001b[1;33m)\u001b[0m\u001b[1;33m\u001b[0m\u001b[1;33m\u001b[0m\u001b[0m\n\u001b[0m",
      "\u001b[1;32m~\\anaconda3\\lib\\site-packages\\matplotlib\\__init__.py\u001b[0m in \u001b[0;36minner\u001b[1;34m(ax, data, *args, **kwargs)\u001b[0m\n\u001b[0;32m   1445\u001b[0m     \u001b[1;32mdef\u001b[0m \u001b[0minner\u001b[0m\u001b[1;33m(\u001b[0m\u001b[0max\u001b[0m\u001b[1;33m,\u001b[0m \u001b[1;33m*\u001b[0m\u001b[0margs\u001b[0m\u001b[1;33m,\u001b[0m \u001b[0mdata\u001b[0m\u001b[1;33m=\u001b[0m\u001b[1;32mNone\u001b[0m\u001b[1;33m,\u001b[0m \u001b[1;33m**\u001b[0m\u001b[0mkwargs\u001b[0m\u001b[1;33m)\u001b[0m\u001b[1;33m:\u001b[0m\u001b[1;33m\u001b[0m\u001b[1;33m\u001b[0m\u001b[0m\n\u001b[0;32m   1446\u001b[0m         \u001b[1;32mif\u001b[0m \u001b[0mdata\u001b[0m \u001b[1;32mis\u001b[0m \u001b[1;32mNone\u001b[0m\u001b[1;33m:\u001b[0m\u001b[1;33m\u001b[0m\u001b[1;33m\u001b[0m\u001b[0m\n\u001b[1;32m-> 1447\u001b[1;33m             \u001b[1;32mreturn\u001b[0m \u001b[0mfunc\u001b[0m\u001b[1;33m(\u001b[0m\u001b[0max\u001b[0m\u001b[1;33m,\u001b[0m \u001b[1;33m*\u001b[0m\u001b[0mmap\u001b[0m\u001b[1;33m(\u001b[0m\u001b[0msanitize_sequence\u001b[0m\u001b[1;33m,\u001b[0m \u001b[0margs\u001b[0m\u001b[1;33m)\u001b[0m\u001b[1;33m,\u001b[0m \u001b[1;33m**\u001b[0m\u001b[0mkwargs\u001b[0m\u001b[1;33m)\u001b[0m\u001b[1;33m\u001b[0m\u001b[1;33m\u001b[0m\u001b[0m\n\u001b[0m\u001b[0;32m   1448\u001b[0m \u001b[1;33m\u001b[0m\u001b[0m\n\u001b[0;32m   1449\u001b[0m         \u001b[0mbound\u001b[0m \u001b[1;33m=\u001b[0m \u001b[0mnew_sig\u001b[0m\u001b[1;33m.\u001b[0m\u001b[0mbind\u001b[0m\u001b[1;33m(\u001b[0m\u001b[0max\u001b[0m\u001b[1;33m,\u001b[0m \u001b[1;33m*\u001b[0m\u001b[0margs\u001b[0m\u001b[1;33m,\u001b[0m \u001b[1;33m**\u001b[0m\u001b[0mkwargs\u001b[0m\u001b[1;33m)\u001b[0m\u001b[1;33m\u001b[0m\u001b[1;33m\u001b[0m\u001b[0m\n",
      "\u001b[1;31mTypeError\u001b[0m: boxplot() missing 1 required positional argument: 'x'"
     ]
    },
    {
     "data": {
      "image/png": "[encoded data removed]",
      "text/plain": [
       "<Figure size 864x432 with 1 Axes>"
      ]
     },
     "metadata": {
      "needs_background": "light"
     },
     "output_type": "display_data"
    }
   ],
   "source": [
    "# insert your code here\n",
    "#x = da[[\"BPXSY1\", \"BPXSY2\"]]\n",
    "#x.boxplot()\n",
    "da['BPXSY1_BPSY2_DIFFER'] = (da['BPXSY1'] - da['BPXSY2'])\n",
    "x = da.boxplot(column=['BPXSY1_BPSY2_DIFFER'], figsize =(12,6));\n",
    "x.boxplot()"
   ]
  },
  {
   "cell_type": "markdown",
   "id": "8abab2a6-7153-4cdc-918d-1782fed007bb",
   "metadata": {},
   "source": [
    "Q4a. What proportion of the subjects have a lower SBP on the second reading compared to the first?"
   ]
  },
  {
   "cell_type": "code",
   "execution_count": 131,
   "id": "cd1622b4-3b54-4c7f-8f31-a5c017f863d0",
   "metadata": {},
   "outputs": [
    {
     "data": {
      "text/plain": [
       "0.42946817785527464"
      ]
     },
     "execution_count": 131,
     "metadata": {},
     "output_type": "execute_result"
    }
   ],
   "source": [
    "da['BP1_GT_BP2'] = da['BPXSY1'] > da['BPXSY2']\n",
    "bp_1_gt_bp_count = da['BP1_GT_BP2'].value_counts()[1] / da['BP1_GT_BP2'].count()\n",
    "bp_1_gt_bp_count"
   ]
  },
  {
   "cell_type": "markdown",
   "id": "1dcbeb21-0e05-4229-9b2c-fcf85d87aa8f",
   "metadata": {},
   "source": [
    "approx 42% of the people have  BPXSY2 Lower than BPXSY1"
   ]
  },
  {
   "cell_type": "markdown",
   "id": "d0451404-7fe1-475b-9b4f-cb8fbf5bcdf3",
   "metadata": {},
   "source": [
    "Q4b. Make side-by-side boxplots of the two systolic blood pressure variables."
   ]
  },
  {
   "cell_type": "code",
   "execution_count": null,
   "id": "bdd8c38e-6570-4eb6-a5b5-7ad74f96395f",
   "metadata": {},
   "outputs": [],
   "source": [
    "x = da.boxplot(da, x=['BPXSY1','BPXSY2'], points=\"all\")\n",
    "\n",
    "x.update_layout(autosize=False, width=900, height=500,\n",
    "                  margin=dict(l=20, r=50, t=50, b=20),\n",
    "                  title='Systolic Blood Pressures',\n",
    "                  xaxis_title=\"Value\",\n",
    "                  yaxis_title=\"Systolic BP\")\n",
    "x.show()"
   ]
  },
  {
   "cell_type": "markdown",
   "id": "1b24d89d-2e20-44d0-9bea-519963c1d9d4",
   "metadata": {},
   "source": [
    "Q4c. Comment on the variation within either the first or second systolic blood pressure measurements, and the variation in the within-subject differences between the first and second systolic blood pressure measurements."
   ]
  },
  {
   "cell_type": "markdown",
   "id": "b89090d4-a71f-46e1-a431-8517c8757da6",
   "metadata": {},
   "source": [
    "Minimum value for BPXSY2 is slightly greater than BPXSY1"
   ]
  },
  {
   "cell_type": "markdown",
   "id": "4929a6be-dfba-47b1-a4cc-0ea15d27196b",
   "metadata": {},
   "source": [
    "Question 5\n",
    "Construct a frequency table of household sizes for people within each educational attainment category (the relevant variable is DMDEDUC2). Convert the frequencies to proportions"
   ]
  },
  {
   "cell_type": "code",
   "execution_count": 152,
   "id": "1659e36d-2326-49ee-8b53-3295855be3df",
   "metadata": {},
   "outputs": [
    {
     "data": {
      "text/plain": [
       "Some college/AA    0.282650\n",
       "College            0.238187\n",
       "HS/GED             0.206800\n",
       "<9                 0.114211\n",
       "9-11               0.112119\n",
       "Missing            0.045510\n",
       "Don't know         0.000523\n",
       "Name: Education, dtype: float64"
      ]
     },
     "execution_count": 152,
     "metadata": {},
     "output_type": "execute_result"
    }
   ],
   "source": [
    "da[\"Education\"] = da['DMDEDUC2'].replace({1: \"<9\", 2: \"9-11\", 3: \"HS/GED\", 4: \"Some college/AA\", 5: \"College\", 7: \"Refused\", 9: \"Don't know\"}).fillna('Missing')\n",
    "da['Education'].value_counts(normalize=True)"
   ]
  },
  {
   "cell_type": "markdown",
   "id": "39df10c6-cade-4647-9a64-14afb88df3c6",
   "metadata": {},
   "source": [
    "Q5a. Comment on any major differences among the distributions."
   ]
  },
  {
   "cell_type": "markdown",
   "id": "4dedf8fc-6fa6-4a05-b9ef-097c033ebf12",
   "metadata": {},
   "source": [
    "Proportion of College Level people is more than 9th to 11th Grade"
   ]
  },
  {
   "cell_type": "markdown",
   "id": "a6210a1a-2ff7-4d01-ba7c-336c5e888a07",
   "metadata": {},
   "source": [
    "Q5b. Restrict the sample to people between 30 and 40 years of age. Then calculate the median household size for women and men within each level of educational attainment."
   ]
  },
  {
   "cell_type": "code",
   "execution_count": 155,
   "id": "58a38971-3d16-45ae-b03d-477b7f38d97d",
   "metadata": {},
   "outputs": [
    {
     "data": {
      "text/plain": [
       "Education\n",
       "9-11               5\n",
       "<9                 5\n",
       "College            3\n",
       "HS/GED             4\n",
       "Some college/AA    4\n",
       "Name: DMDHHSIZ, dtype: int64"
      ]
     },
     "execution_count": 155,
     "metadata": {},
     "output_type": "execute_result"
    }
   ],
   "source": [
    "# insert your code here\n",
    "da[(da.RIDAGEYR >= 30) & (da.RIDAGEYR <= 40)].groupby('Education')['DMDHHSIZ'].median()"
   ]
  },
  {
   "cell_type": "markdown",
   "id": "aa94d196-95c0-438f-82c8-b1d6c5072263",
   "metadata": {},
   "source": [
    "Question 6\n",
    "The participants can be clustered into \"maked variance units\" (MVU) based on every combination of the variables SDMVSTRA and SDMVPSU. Calculate the mean age (RIDAGEYR), height (BMXHT), and BMI (BMXBMI) for each gender (RIAGENDR), within each MVU, and report the ratio between the largest and smallest mean (e.g. for height) across the MVUs."
   ]
  },
  {
   "cell_type": "code",
   "execution_count": null,
   "id": "8d58dc8d-f652-4527-b510-33bf2fcebff1",
   "metadata": {},
   "outputs": [],
   "source": [
    "#da.groupby(['SDMVSTRA', 'SDMVPSU', 'RIAGENDR'])[['RIDAGEYR', 'BMXHT', 'BMXBMI']].mean()"
   ]
  },
  {
   "cell_type": "markdown",
   "id": "5dbaaad9-1f10-4587-97dd-d4680a664b90",
   "metadata": {},
   "source": [
    "Q6a. Comment on the extent to which mean age, height, and BMI vary among the MVUs."
   ]
  },
  {
   "cell_type": "code",
   "execution_count": null,
   "id": "e486a892-a934-4948-bb67-3fa2394a5657",
   "metadata": {},
   "outputs": [],
   "source": []
  },
  {
   "cell_type": "markdown",
   "id": "c60e3d7e-dc1c-4eb5-b856-10a384d2d16d",
   "metadata": {},
   "source": [
    "Q6b. Calculate the inter-quartile range (IQR) for age, height, and BMI for each gender and each MVU. Report the ratio between the largest and smalles IQR across the MVUs."
   ]
  },
  {
   "cell_type": "code",
   "execution_count": null,
   "id": "75a82792-38ed-4bbe-adf7-9fb05cc61129",
   "metadata": {},
   "outputs": [],
   "source": [
    "#da.groupby(['SDMVSTRA', 'SDMVPSU', 'RIAGENDR'])[['RIDAGEYR', 'BMXHT', 'BMXBMI']].quantile(0.75)"
   ]
  },
  {
   "cell_type": "markdown",
   "id": "649ba24d-a72c-4669-ad69-0267c0fea9e5",
   "metadata": {},
   "source": [
    "Q6c. Comment on the extent to which the IQR for age, height, and BMI vary among the MVUs."
   ]
  },
  {
   "cell_type": "code",
   "execution_count": null,
   "id": "0d21eee7-a1ad-48df-a85c-2703c2e4de80",
   "metadata": {},
   "outputs": [],
   "source": [
    "#da.info()"
   ]
  }
 ],
 "metadata": {
  "kernelspec": {
   "display_name": "Python 3",
   "language": "python",
   "name": "python3"
  },
  "language_info": {
   "codemirror_mode": {
    "name": "ipython",
    "version": 3
   },
   "file_extension": ".py",
   "mimetype": "text/x-python",
   "name": "python",
   "nbconvert_exporter": "python",
   "pygments_lexer": "ipython3",
   "version": "3.8.8"
  },
  "toc-autonumbering": true,
  "toc-showcode": false,
  "toc-showmarkdowntxt": false,
  "toc-showtags": false
 },
 "nbformat": 4,
 "nbformat_minor": 5
}
